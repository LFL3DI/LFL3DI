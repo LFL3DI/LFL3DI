{
 "cells": [
  {
   "cell_type": "code",
   "execution_count": null,
   "metadata": {},
   "outputs": [],
   "source": [
    "from TauLidarCommon.frame import FrameType, Frame\n",
    "from TauLidarCamera.camera import Camera\n",
    "from TauLidarCamera.constants import VALUE_20MHZ\n",
    "from TauLidarCommon.color import ColorMode"
   ]
  },
  {
   "cell_type": "code",
   "execution_count": null,
   "metadata": {},
   "outputs": [],
   "source": [
    "camera = Camera.open()"
   ]
  },
  {
   "cell_type": "code",
   "execution_count": null,
   "metadata": {},
   "outputs": [],
   "source": [
    "cameraInfo = camera.info()\n",
    "\n",
    "print(\"\\nToF camera opened successfully:\")\n",
    "print(\"    model:      %s\" % cameraInfo.model)\n",
    "print(\"    firmware:   %s\" % cameraInfo.firmware)\n",
    "print(\"    uid:        %s\" % cameraInfo.uid)\n",
    "print(\"    resolution: %s\" % cameraInfo.resolution)\n",
    "print(\"    port:       %s\" % cameraInfo.port)"
   ]
  },
  {
   "cell_type": "code",
   "execution_count": null,
   "metadata": {},
   "outputs": [],
   "source": [
    "camera.setModulationChannel(0) ## autoChannelEnabled: 0, channel: 0"
   ]
  },
  {
   "cell_type": "code",
   "execution_count": null,
   "metadata": {},
   "outputs": [],
   "source": [
    "camera.setIntegrationTime3d(0, 800)  ## set integration time 0: 1000\n",
    "camera.setMinimalAmplitude(0, 60)  ## set minimal amplitude 0: 80\n",
    "Camera.setRange(0, 4500) ## points in the distance range to be colored\n",
    "camera.setIntegrationTimeGrayscale(15000)  ## set integration time grayscale: 8000, needed when requiring FrameType.DISTANCE_GRAYSCALE"
   ]
  },
  {
   "cell_type": "code",
   "execution_count": null,
   "metadata": {},
   "outputs": [],
   "source": [
    "frame = camera.readFrame(FrameType.DISTANCE_AMPLITUDE)"
   ]
  },
  {
   "cell_type": "code",
   "execution_count": null,
   "metadata": {},
   "outputs": [],
   "source": [
    "import datetime\n",
    "import os\n",
    "import time\n",
    "import cv2\n",
    "import numpy as np\n",
    "\n",
    "# Start time\n",
    "start_time = time.time()\n",
    "print(f\"Start Time: {start_time}\")\n",
    "end_time = start_time + 4  # Capture frames for 4 seconds\n",
    "print(f\"End Time: {end_time}\")\n",
    "\n",
    "last_captured_image = None  # To store the last captured frame\n",
    "\n",
    "while time.time() < end_time:\n",
    "    # Capture frame\n",
    "    frame = camera.readFrame(FrameType.DISTANCE_AMPLITUDE)\n",
    "    mat_amplitude = np.frombuffer(frame.data_amplitude, dtype=np.float32, count=-1, offset=0).reshape(frame.height, frame.width)\n",
    "\n",
    "    # Convert to 8-bit for display\n",
    "    cv2.normalize(mat_amplitude, mat_amplitude, 0, 255, cv2.NORM_MINMAX)\n",
    "    mat_amplitude = mat_amplitude.astype(np.uint8)\n",
    "\n",
    "    # Apply a colormap to the image\n",
    "    colored_image = cv2.applyColorMap(mat_amplitude, cv2.COLORMAP_JET)\n",
    "\n",
    "    # Enlarge the image while preserving aspect ratio\n",
    "    target_width = 2000\n",
    "    target_height = 1500\n",
    "    resized_image = cv2.resize(colored_image, (target_width, target_height), interpolation=cv2.INTER_LINEAR)\n",
    "\n",
    "    # Display the live feed\n",
    "    cv2.imshow('Object Detection on Depth Map', resized_image)\n",
    "\n",
    "    # Store the last captured image\n",
    "    last_captured_image = resized_image\n",
    "\n",
    "    # Break if 'q' is pressed\n",
    "    if cv2.waitKey(1) & 0xFF == ord('q'):\n",
    "        break\n",
    "\n",
    "# Close OpenCV window\n",
    "cv2.destroyAllWindows()\n",
    "\n",
    "# Define save directory\n",
    "save_dir = \"saved_images_4\"\n",
    "os.makedirs(save_dir, exist_ok=True)\n",
    "\n",
    "# Generate filename with timestamp\n",
    "timestamp = datetime.datetime.now().strftime(\"%Y%m%d_%H%M%S\")\n",
    "file_path = os.path.join(save_dir, f\"depth_map_{timestamp}.png\")\n",
    "\n",
    "# Save the last captured image\n",
    "if last_captured_image is not None:\n",
    "    cv2.imwrite(file_path, last_captured_image)\n",
    "    print(f\"Image saved successfully at: {file_path}\")\n",
    "else:\n",
    "    print(\"No image was captured.\")\n"
   ]
  }
 ],
 "metadata": {
  "language_info": {
   "name": "python"
  }
 },
 "nbformat": 4,
 "nbformat_minor": 2
}
